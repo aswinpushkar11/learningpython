{
 "cells": [
  {
   "cell_type": "code",
   "execution_count": 2,
   "metadata": {},
   "outputs": [
    {
     "name": "stdout",
     "output_type": "stream",
     "text": [
      "Outer class object created\n",
      "Inner class object created\n",
      "Calling Inner method\n"
     ]
    }
   ],
   "source": [
    "#Inner class Concepts \n",
    "\n",
    "class University:\n",
    "    def __init__(self):\n",
    "        print('Outer class object created')\n",
    "\n",
    "    class Department:\n",
    "        def __init__(self):\n",
    "            print('Inner class object created')\n",
    "        def m1(self):\n",
    "            print('Calling Inner method')\n",
    "\n",
    "# u = University()\n",
    "# d = u.Department()\n",
    "# d.m1()\n",
    "\n",
    "# d=University().Department()\n",
    "# d.m1()\n",
    "\n",
    "University().Department().m1()"
   ]
  },
  {
   "cell_type": "code",
   "execution_count": 15,
   "metadata": {},
   "outputs": [
    {
     "name": "stdout",
     "output_type": "stream",
     "text": [
      "Using Instance Method m1:\n",
      "Outer class object created\n",
      "Inner class object created\n",
      "Innerinner class object created\n",
      "Calling Nested Inner Static method\n",
      "\n",
      "Using Static method m1:\n",
      "Outer class object created\n",
      "Inner class object created\n",
      "Calling Nested Inner Static method\n"
     ]
    }
   ],
   "source": [
    "#Nested Class\n",
    "\n",
    "class Outer:\n",
    "    def __init__(self):\n",
    "        print('Outer class object created')\n",
    "\n",
    "    class Inner:\n",
    "        def __init__(self):\n",
    "            print('Inner class object created')\n",
    "\n",
    "        class Innerinner:\n",
    "            def __init__(self):\n",
    "                print('Innerinner class object created')\n",
    "            \n",
    "            def m1(self):\n",
    "                print('Calling Nested Inner method')\n",
    "            @staticmethod\n",
    "            def m1():\n",
    "                print('Calling Nested Inner Static method')\n",
    "print('Using Instance Method m1:')\n",
    "Outer().Inner().Innerinner().m1()\n",
    "print()\n",
    "print('Using Static method m1:')\n",
    "Outer().Inner().Innerinner.m1()"
   ]
  },
  {
   "cell_type": "code",
   "execution_count": 28,
   "metadata": {},
   "outputs": [
    {
     "name": "stdout",
     "output_type": "stream",
     "text": [
      "Human object creation\n",
      "Head object creation\n",
      "Brain object creation\n",
      "\n",
      "Hi there,I am aswinpushkar11\n",
      "I can Talk...\n",
      "I can Think...\n"
     ]
    }
   ],
   "source": [
    "#Initiating object creation for an inner class within Outer class\n",
    "\n",
    "class Human:\n",
    "    def __init__(self,name):\n",
    "        print('Human object creation')\n",
    "        self.name = name\n",
    "        self.head = self.Head()\n",
    "        \n",
    "    def info(self):\n",
    "        print('Hi there,I am',self.name)\n",
    "        self.head.talk() \n",
    "        self.head.brain.think()\n",
    "        \n",
    "\n",
    "    class Head:\n",
    "        def __init__(self):\n",
    "            print('Head object creation')\n",
    "            self.brain = self.Brain()\n",
    "\n",
    "        def talk(self):\n",
    "            print('I can Talk...')\n",
    "\n",
    "        class Brain:\n",
    "            def __init__(self):\n",
    "                print('Brain object creation')\n",
    "\n",
    "            def think(self):\n",
    "                print('I can Think...')\n",
    "\n",
    "human = Human('aswinpushkar11')\n",
    "print()\n",
    "human.info()"
   ]
  },
  {
   "cell_type": "code",
   "execution_count": 35,
   "metadata": {},
   "outputs": [
    {
     "name": "stdout",
     "output_type": "stream",
     "text": [
      "Person class creation\n",
      "Dob class creation\n",
      "Aswin Pushkar's date of birth is 27/12/2000\n"
     ]
    }
   ],
   "source": [
    "#Inner class using multiple instance variables\n",
    "\n",
    "class Person:\n",
    "    def __init__(self,name,dd,mm,yyyy):\n",
    "        print('Person class creation')\n",
    "        self.name = name\n",
    "        self.dob = self.Dob(dd,mm,yyyy)\n",
    "\n",
    "    def display(self):\n",
    "        print(f\"{(self.name).title()}'s date of birth is \",end='')\n",
    "        self.dob.info()\n",
    "        \n",
    "    class Dob:\n",
    "        def __init__(self,dd,mm,yyyy):\n",
    "            print('Dob class creation')\n",
    "            self.dd = dd\n",
    "            self.mm = mm\n",
    "            self.yyyy = yyyy \n",
    "        \n",
    "        def info(self):\n",
    "            print(f'{self.dd}/{self.mm}/{self.yyyy}')\n",
    "\n",
    "p=Person('aswin pushkar',27,12,2000)\n",
    "p.display()"
   ]
  },
  {
   "cell_type": "code",
   "execution_count": null,
   "metadata": {},
   "outputs": [],
   "source": []
  }
 ],
 "metadata": {
  "kernelspec": {
   "display_name": "python-env",
   "language": "python",
   "name": "python3"
  },
  "language_info": {
   "codemirror_mode": {
    "name": "ipython",
    "version": 3
   },
   "file_extension": ".py",
   "mimetype": "text/x-python",
   "name": "python",
   "nbconvert_exporter": "python",
   "pygments_lexer": "ipython3",
   "version": "3.12.4"
  }
 },
 "nbformat": 4,
 "nbformat_minor": 2
}
