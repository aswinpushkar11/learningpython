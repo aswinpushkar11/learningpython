{
 "cells": [
  {
   "cell_type": "code",
   "execution_count": 2,
   "metadata": {},
   "outputs": [
    {
     "name": "stdout",
     "output_type": "stream",
     "text": [
      "Outer class object created\n",
      "Inner class object created\n",
      "Calling Inner method\n"
     ]
    }
   ],
   "source": [
    "#Inner class Concepts \n",
    "\n",
    "class University:\n",
    "    def __init__(self):\n",
    "        print('Outer class object created')\n",
    "\n",
    "    class Department:\n",
    "        def __init__(self):\n",
    "            print('Inner class object created')\n",
    "        def m1(self):\n",
    "            print('Calling Inner method')\n",
    "\n",
    "# u = University()\n",
    "# d = u.Department()\n",
    "# d.m1()\n",
    "\n",
    "# d=University().Department()\n",
    "# d.m1()\n",
    "\n",
    "University().Department().m1()"
   ]
  },
  {
   "cell_type": "code",
   "execution_count": 15,
   "metadata": {},
   "outputs": [
    {
     "name": "stdout",
     "output_type": "stream",
     "text": [
      "Using Instance Method m1:\n",
      "Outer class object created\n",
      "Inner class object created\n",
      "Innerinner class object created\n",
      "Calling Nested Inner Static method\n",
      "\n",
      "Using Static method m1:\n",
      "Outer class object created\n",
      "Inner class object created\n",
      "Calling Nested Inner Static method\n"
     ]
    }
   ],
   "source": [
    "#Nested Class\n",
    "\n",
    "class Outer:\n",
    "    def __init__(self):\n",
    "        print('Outer class object created')\n",
    "\n",
    "    class Inner:\n",
    "        def __init__(self):\n",
    "            print('Inner class object created')\n",
    "\n",
    "        class Innerinner:\n",
    "            def __init__(self):\n",
    "                print('Innerinner class object created')\n",
    "            \n",
    "            def m1(self):\n",
    "                print('Calling Nested Inner method')\n",
    "            @staticmethod\n",
    "            def m1():\n",
    "                print('Calling Nested Inner Static method')\n",
    "print('Using Instance Method m1:')\n",
    "Outer().Inner().Innerinner().m1()\n",
    "print()\n",
    "print('Using Static method m1:')\n",
    "Outer().Inner().Innerinner.m1()"
   ]
  },
  {
   "cell_type": "code",
   "execution_count": 28,
   "metadata": {},
   "outputs": [
    {
     "name": "stdout",
     "output_type": "stream",
     "text": [
      "Human object creation\n",
      "Head object creation\n",
      "Brain object creation\n",
      "\n",
      "Hi there,I am aswinpushkar11\n",
      "I can Talk...\n",
      "I can Think...\n"
     ]
    }
   ],
   "source": [
    "#Initiating object creation for an inner class within Outer class\n",
    "\n",
    "class Human:\n",
    "    def __init__(self,name):\n",
    "        print('Human object creation')\n",
    "        self.name = name\n",
    "        self.head = self.Head()\n",
    "        \n",
    "    def info(self):\n",
    "        print('Hi there,I am',self.name)\n",
    "        self.head.talk() \n",
    "        self.head.brain.think()\n",
    "        \n",
    "\n",
    "    class Head:\n",
    "        def __init__(self):\n",
    "            print('Head object creation')\n",
    "            self.brain = self.Brain()\n",
    "\n",
    "        def talk(self):\n",
    "            print('I can Talk...')\n",
    "\n",
    "        class Brain:\n",
    "            def __init__(self):\n",
    "                print('Brain object creation')\n",
    "\n",
    "            def think(self):\n",
    "                print('I can Think...')\n",
    "\n",
    "human = Human('aswinpushkar11')\n",
    "print()\n",
    "human.info()"
   ]
  },
  {
   "cell_type": "code",
   "execution_count": 35,
   "metadata": {},
   "outputs": [
    {
     "name": "stdout",
     "output_type": "stream",
     "text": [
      "Person class creation\n",
      "Dob class creation\n",
      "Aswin Pushkar's date of birth is 27/12/2000\n"
     ]
    }
   ],
   "source": [
    "#Inner class using multiple instance variables\n",
    "\n",
    "class Person:\n",
    "    def __init__(self,name,dd,mm,yyyy):\n",
    "        print('Person class creation')\n",
    "        self.name = name\n",
    "        self.dob = self.Dob(dd,mm,yyyy)\n",
    "\n",
    "    def display(self):\n",
    "        print(f\"{(self.name).title()}'s date of birth is \",end='')\n",
    "        self.dob.info()\n",
    "        \n",
    "    class Dob:\n",
    "        def __init__(self,dd,mm,yyyy):\n",
    "            print('Dob class creation')\n",
    "            self.dd = dd\n",
    "            self.mm = mm\n",
    "            self.yyyy = yyyy \n",
    "        \n",
    "        def info(self):\n",
    "            print(f'{self.dd}/{self.mm}/{self.yyyy}')\n",
    "\n",
    "p=Person('aswin pushkar',27,12,2000)\n",
    "p.display()"
   ]
  },
  {
   "cell_type": "code",
   "execution_count": 42,
   "metadata": {},
   "outputs": [
    {
     "name": "stdout",
     "output_type": "stream",
     "text": [
      "Method One\n",
      "The sum is: 30\n",
      "The prd is: 200\n",
      "The diff is: -10\n",
      "\n",
      "The sum is: 50\n",
      "The prd is: 600\n",
      "The diff is: -10\n",
      "\n",
      "The sum is: 70\n",
      "The prd is: 1200\n",
      "The diff is: -10\n",
      "\n"
     ]
    }
   ],
   "source": [
    "#Nested methods\n",
    "\n",
    "class Test:\n",
    "    def m1(self):\n",
    "        print('Method One')\n",
    "        def m2(a,b):\n",
    "            print('The sum is:',a+b)\n",
    "            print('The prd is:',a*b)\n",
    "            print('The diff is:',a-b)\n",
    "            print()\n",
    "        m2(10,20)\n",
    "        m2(20,30)\n",
    "        m2(30,40)\n",
    "\n",
    "\n",
    "t=Test()\n",
    "t.m1()\n",
    "\n"
   ]
  },
  {
   "cell_type": "code",
   "execution_count": 70,
   "metadata": {},
   "outputs": [
    {
     "name": "stdout",
     "output_type": "stream",
     "text": [
      "True\n"
     ]
    }
   ],
   "source": [
    "#garbage collector \n",
    "import gc\n",
    "# print(gc.isenabled())\n",
    "# gc.disable()\n",
    "# print(gc.isenabled())\n",
    "# gc.enable()\n",
    "print(gc.isenabled())"
   ]
  },
  {
   "cell_type": "code",
   "execution_count": null,
   "metadata": {},
   "outputs": [
    {
     "name": "stdout",
     "output_type": "stream",
     "text": [
      "Constructor Execution\n",
      "Destructor Execution\n",
      "End of the Programme\n"
     ]
    }
   ],
   "source": [
    "# Destructor\n",
    "import time\n",
    "class Test:\n",
    "    def __init__(self):\n",
    "        print('Constructor Execution')\n",
    "\n",
    "    def __del__(self):\n",
    "        print('Destructor Execution')\n",
    "\n",
    "t=Test()\n",
    "t=None\n",
    "time.sleep(5)\n",
    "print('End of the Programme')\n"
   ]
  },
  {
   "cell_type": "code",
   "execution_count": 72,
   "metadata": {},
   "outputs": [
    {
     "name": "stdout",
     "output_type": "stream",
     "text": [
      "Constructor Execution\n",
      "Destructor Execution\n",
      "Constructor Execution\n",
      "Destructor Execution\n",
      "End of the Programme\n"
     ]
    }
   ],
   "source": [
    "# example2 - Destructor\n",
    "import time\n",
    "class Test:\n",
    "    def __init__(self):\n",
    "        print('Constructor Execution')\n",
    "\n",
    "    def __del__(self):\n",
    "        print('Destructor Execution')\n",
    "\n",
    "t1=Test()\n",
    "t2=Test()\n",
    "print('End of the Programme')"
   ]
  },
  {
   "cell_type": "code",
   "execution_count": 1,
   "metadata": {},
   "outputs": [
    {
     "name": "stdout",
     "output_type": "stream",
     "text": [
      "Start of Programme\n",
      "Constructor Execution\n",
      "Object not removed after deleting ref var1\n",
      "Object not removed after deleting ref var1\n",
      "Removing last ref var\n",
      "Destructor Execution\n",
      "End of the Programme\n"
     ]
    }
   ],
   "source": [
    "# example3 - Destructor \n",
    "import time\n",
    "class Test:\n",
    "    def __init__(self):\n",
    "        print('Constructor Execution')\n",
    "\n",
    "    def __del__(self):\n",
    "        print('Destructor Execution')\n",
    "\n",
    "\n",
    "print('Start of Programme')\n",
    "t1=Test()\n",
    "t2=t1\n",
    "t3=t1\n",
    "\n",
    "del t1\n",
    "time.sleep(5)\n",
    "print('Object not removed after deleting ref var1')\n",
    "del t2\n",
    "time.sleep(5)\n",
    "print('Object not removed after deleting ref var1')\n",
    "print('Removing last ref var')\n",
    "del t3\n",
    "time.sleep(5)\n",
    "print('End of the Programme')"
   ]
  },
  {
   "cell_type": "code",
   "execution_count": 2,
   "metadata": {},
   "outputs": [
    {
     "name": "stdout",
     "output_type": "stream",
     "text": [
      "Car Functionality\n",
      "Engine functionality\n"
     ]
    }
   ],
   "source": [
    "#Composition - HAS A\n",
    "\n",
    "class Engine:\n",
    "    def m1(self):\n",
    "        print('Engine functionality')\n",
    "\n",
    "\n",
    "class Car:\n",
    "    def __init__(self):\n",
    "        self.engine = Engine()\n",
    "\n",
    "    def m2(self):\n",
    "        print('Car Functionality')\n",
    "        self.engine.m1()\n",
    "\n",
    "c = Car()\n",
    "c.m2()"
   ]
  },
  {
   "cell_type": "code",
   "execution_count": 3,
   "metadata": {},
   "outputs": [
    {
     "name": "stdout",
     "output_type": "stream",
     "text": [
      "Emp No:101\n",
      "Emp Name:aswinpushkar\n",
      "Employee Car Details:\n",
      "Car:Skoda,Vesion:1.5,Model:Slavia\n"
     ]
    }
   ],
   "source": [
    "#example 2\n",
    "#EMPLOYEE HAS A CAR\n",
    "class Car:\n",
    "\n",
    "    def __init__(self,name,model,version):\n",
    "        self.name = name\n",
    "        self.model = model\n",
    "        self.version = version\n",
    "\n",
    "    def info(self):\n",
    "        print(f'Car:{self.name},Vesion:{self.version},Model:{self.model}')\n",
    "\n",
    "class Employee:\n",
    "\n",
    "    def __init__(self,eno,ename,car):\n",
    "        self.eno = eno\n",
    "        self.ename = ename\n",
    "        self.car = car\n",
    "\n",
    "    def details(self):\n",
    "        print(f'Emp No:{self.eno}\\nEmp Name:{self.ename}')\n",
    "        print('Employee Car Details:')\n",
    "        self.car.info()\n",
    "\n",
    "car = Car('Skoda','Slavia',1.5)\n",
    "emp = Employee(101,'aswinpushkar',car)\n",
    "emp.details()\n"
   ]
  },
  {
   "cell_type": "code",
   "execution_count": 4,
   "metadata": {},
   "outputs": [
    {
     "name": "stdout",
     "output_type": "stream",
     "text": [
      "Parent Constructor\n",
      "10\n",
      "20\n",
      "Parent class Method\n",
      "Class method\n",
      "Static method\n"
     ]
    }
   ],
   "source": [
    "#INHERITANCE --IS A relationship\n",
    "class Parent:\n",
    "    a=10\n",
    "    def __init__(self):\n",
    "        print('Parent Constructor')\n",
    "        self.b=20\n",
    "\n",
    "    def m1(self):\n",
    "        print('Parent class Method')\n",
    "    @classmethod\n",
    "    def m2(cls):\n",
    "        print('Class method')\n",
    "\n",
    "    @staticmethod\n",
    "    def m3():\n",
    "        print('Static method')\n",
    "\n",
    "class Child(Parent):\n",
    "    pass\n",
    "\n",
    "c = Child()\n",
    "print(c.a)\n",
    "print(c.b)\n",
    "c.m1()\n",
    "c.m2()\n",
    "c.m3()"
   ]
  },
  {
   "cell_type": "code",
   "execution_count": 5,
   "metadata": {},
   "outputs": [
    {
     "name": "stdout",
     "output_type": "stream",
     "text": [
      "Child Constructor\n",
      "aswin\n",
      "25\n",
      "1224324\n",
      "28k\n",
      "Eat biriyani and drink beer\n",
      "Python developer\n"
     ]
    }
   ],
   "source": [
    "#Example2 - INHERITANCE --IS A relationship(Without super())\n",
    "class Person:\n",
    "    def __init__(self,name,age):\n",
    "        print('Parent Constructor')\n",
    "        self.name = name\n",
    "        self.age = age\n",
    "\n",
    "    def eatndrink(self):\n",
    "        print('Eat biriyani and drink beer')\n",
    "\n",
    "class Employee(Person):\n",
    "    def __init__(self, name, age,eno,esal):\n",
    "        print('Child Constructor')\n",
    "        self.name = name\n",
    "        self.age = age\n",
    "        self.eno = eno\n",
    "        self.esal = esal\n",
    "\n",
    "    def work(self):\n",
    "        print(\"Python developer\")\n",
    "\n",
    "    def empinfo(self):\n",
    "        print(self.name)\n",
    "        print(self.age)\n",
    "        print(self.eno)\n",
    "        print(self.esal)\n",
    "\n",
    "e = Employee('aswin',25,1224324,'28k')\n",
    "e.empinfo()\n",
    "e.eatndrink()\n",
    "e.work()\n",
    "\n",
    "        "
   ]
  },
  {
   "cell_type": "code",
   "execution_count": 7,
   "metadata": {},
   "outputs": [
    {
     "name": "stdout",
     "output_type": "stream",
     "text": [
      "Child Constructor\n",
      "Parent Constructor\n",
      "aswin\n",
      "25\n",
      "1224324\n",
      "28k\n",
      "Eat biriyani and drink beer\n",
      "Python developer\n"
     ]
    }
   ],
   "source": [
    "#Example2 - INHERITANCE --IS A relationship(With super())\n",
    "class Person:\n",
    "    def __init__(self,name,age):\n",
    "        print('Parent Constructor')\n",
    "        self.name = name\n",
    "        self.age = age\n",
    "\n",
    "    def eatndrink(self):\n",
    "        print('Eat biriyani and drink beer')\n",
    "\n",
    "class Employee(Person):\n",
    "    def __init__(self, name, age,eno,esal):\n",
    "        print('Child Constructor')\n",
    "        super().__init__(name,age)\n",
    "        self.eno = eno\n",
    "        self.esal = esal\n",
    "\n",
    "    def work(self):\n",
    "        print(\"Python developer\")\n",
    "\n",
    "    def empinfo(self):\n",
    "        print(self.name)\n",
    "        print(self.age)\n",
    "        print(self.eno)\n",
    "        print(self.esal)\n",
    "\n",
    "e = Employee('aswin',25,1224324,'28k')\n",
    "e.empinfo()\n",
    "e.eatndrink()\n",
    "e.work()\n",
    "# Notice how Constructors are being called\n",
    "        "
   ]
  },
  {
   "cell_type": "code",
   "execution_count": 10,
   "metadata": {},
   "outputs": [
    {
     "name": "stdout",
     "output_type": "stream",
     "text": [
      "Parent Constructor\n"
     ]
    }
   ],
   "source": [
    "class Parent:\n",
    "    def __init__(self):\n",
    "        print('Parent Constructor')\n",
    "        self.b=10\n",
    "\n",
    "class Child(Parent):\n",
    "    def __init__(self):\n",
    "       super().__init__()\n",
    "   \n",
    "\n",
    "c=Child()\n"
   ]
  },
  {
   "cell_type": "code",
   "execution_count": 11,
   "metadata": {},
   "outputs": [
    {
     "name": "stdout",
     "output_type": "stream",
     "text": [
      "Aswin likes beer-biriyani\n",
      "Aswin is a Python Developer\n",
      "Employee Information:\n",
      "\tEmployee name :Aswin\n",
      "\tEmployeeAge:29\n",
      "\tEmployeeNo=1224324\n",
      "\tEmployeeSal=28k\n",
      "\n",
      "The specifications of the car are:\n",
      "\tCompanyName:Skoda\n",
      "\tModel:Slavia\n",
      "\tVesrsion:1.5T\n"
     ]
    }
   ],
   "source": [
    "# Application of Inheritance and Composition\n",
    "\n",
    "class Car:\n",
    "    def __init__(self,name,model,version):\n",
    "        self.name = name\n",
    "        self.model = model\n",
    "        self.version = version\n",
    "    \n",
    "    def getcarinfo(self):\n",
    "        print(f'The specifications of the car are:\\n\\tCompanyName:{self.name}\\n\\tModel:{self.model}\\n\\tVesrsion:{self.version}')\n",
    "\n",
    "\n",
    "class Person:\n",
    "    def __init__(self,name,age):\n",
    "        self.name = name\n",
    "        self.age = age\n",
    "\n",
    "    def eatndrink(self):\n",
    "        print(f'{self.name} likes beer-biriyani')\n",
    "\n",
    "\n",
    "class Employee(Person):\n",
    "    def __init__(self, name, age, eno, esal, car):\n",
    "        super().__init__(name, age)\n",
    "        self.eno = eno\n",
    "        self.esal = esal\n",
    "        self.car = car\n",
    "    def getworkinfo(self):\n",
    "        print(f'{self.name} is a Python Developer')\n",
    "    def getinfo(self):\n",
    "        print('Employee Information:')\n",
    "        print(f'\\tEmployee name :{self.name}\\n\\tEmployeeAge:{self.age}\\n\\tEmployeeNo={self.eno}\\n\\tEmployeeSal={self.esal}')\n",
    "        print()\n",
    "        self.car.getcarinfo()\n",
    "\n",
    "c=Car('Skoda','Slavia','1.5T')\n",
    "e=Employee('Aswin',29,1224324,'28k',c)\n",
    "e.eatndrink()\n",
    "e.getworkinfo()\n",
    "e.getinfo()\n",
    "# e.car.getcarinfo()\n",
    "\n"
   ]
  },
  {
   "cell_type": "code",
   "execution_count": 17,
   "metadata": {},
   "outputs": [
    {
     "name": "stdout",
     "output_type": "stream",
     "text": [
      "Univ Constructor\n",
      "Dept Constructor\n"
     ]
    }
   ],
   "source": [
    "#COMPOSITIION:Without University(Container Obj)- Department(Contained Obj) doesn't exist\n",
    "\n",
    "class University:\n",
    "    def __init__(self):\n",
    "        print('Univ Constructor')\n",
    "        self.dept = self.Department()\n",
    "    class Department:\n",
    "        def __init__(self):\n",
    "            print('Dept Constructor')\n",
    "\n",
    "u = University()\n",
    "#d=Department() --invalid\n"
   ]
  },
  {
   "cell_type": "code",
   "execution_count": 13,
   "metadata": {},
   "outputs": [
    {
     "name": "stdout",
     "output_type": "stream",
     "text": [
      "Dept constructor\n",
      "Dept constructor\n"
     ]
    }
   ],
   "source": [
    "##AGGREGATION :Without existing Department(Container) -Professor(Contained Obj) exist\n",
    "\n",
    "class Professor:\n",
    "        pass\n",
    "\n",
    "class Department:\n",
    "        def __init__(self,prof):\n",
    "                print('Dept constructor')\n",
    "                self.prof = prof\n",
    "\n",
    "prof = Professor()\n",
    "deptit=Department(prof)\n",
    "deptcs=Department(prof)\n",
    "    "
   ]
  },
  {
   "cell_type": "code",
   "execution_count": 20,
   "metadata": {},
   "outputs": [
    {
     "name": "stdout",
     "output_type": "stream",
     "text": [
      "Parent Method\n",
      "Child Method\n"
     ]
    }
   ],
   "source": [
    "# INHERITANCE - Single Inheritance\n",
    "\n",
    "class P:\n",
    "    def m1(self):\n",
    "        print('Parent Method')\n",
    "\n",
    "class C(P):\n",
    "    def m2(self):\n",
    "        print('Child Method')\n",
    "\n",
    "c=C()\n",
    "c.m1()\n",
    "c.m2()\n",
    "\n"
   ]
  },
  {
   "cell_type": "code",
   "execution_count": 28,
   "metadata": {},
   "outputs": [
    {
     "name": "stdout",
     "output_type": "stream",
     "text": [
      "Sub Child's Methods:\n",
      "Parent Method\n",
      "Child Method\n",
      "Sub Child Class Method\n",
      "\n",
      "Child's Methods:\n",
      "Parent Method\n",
      "Child Method\n"
     ]
    }
   ],
   "source": [
    "# INHERITANCE - MultiLevel Inheritance\n",
    "\n",
    "class P:\n",
    "    def m1(self):\n",
    "        print('Parent Method')\n",
    "\n",
    "class C(P):\n",
    "    def m2(self):\n",
    "        print('Child Method')\n",
    "\n",
    "class CC(C):\n",
    "    def m3(self):\n",
    "        print('Sub Child Class Method')\n",
    "print(\"Sub Child's Methods:\")\n",
    "cc=CC()\n",
    "cc.m1()\n",
    "cc.m2()\n",
    "cc.m3()\n",
    "print()\n",
    "print(\"Child's Methods:\")\n",
    "c= C()\n",
    "c.m1()\n",
    "c.m2()\n",
    "\n"
   ]
  },
  {
   "cell_type": "code",
   "execution_count": 37,
   "metadata": {},
   "outputs": [
    {
     "name": "stdout",
     "output_type": "stream",
     "text": [
      "Child1's Methods:\n",
      "Method1:Parent Method\n",
      "Method2:Child1 Method\n",
      "Method3:Invalid Method for Child1\n",
      "\n",
      "Child2's Methods:\n",
      "Method1:Parent Method\n",
      "Method2:Invalid Method for Child2\n",
      "Method3:Child2 Method\n"
     ]
    }
   ],
   "source": [
    "# INHERITANCE - Hierarchial Inheritance\n",
    "\n",
    "class P:\n",
    "    def m1(self):\n",
    "        print('Parent Method')\n",
    "\n",
    "class C1(P):\n",
    "    def m2(self):\n",
    "        print('Child1 Method')\n",
    "\n",
    "class C2(P):\n",
    "    def m3(self):\n",
    "        print('Child2 Method')\n",
    "print(\"Child1's Methods:\")\n",
    "c1=C1()\n",
    "print('Method1:',end='')\n",
    "c1.m1()\n",
    "print('Method2:',end='')\n",
    "c1.m2()\n",
    "try:\n",
    "    c1.m3()\n",
    "except:\n",
    "    print(\"Method3:Invalid Method for Child1\")\n",
    "print()\n",
    "print(\"Child2's Methods:\")\n",
    "c2= C2()\n",
    "print('Method1:',end='')\n",
    "c2.m1()\n",
    "try:\n",
    "    c2.m2()\n",
    "except:\n",
    "    print(\"Method2:Invalid Method for Child2\")\n",
    "print('Method3:',end='')\n",
    "c2.m3()\n",
    "\n"
   ]
  },
  {
   "cell_type": "code",
   "execution_count": null,
   "metadata": {},
   "outputs": [],
   "source": []
  }
 ],
 "metadata": {
  "kernelspec": {
   "display_name": "python-env",
   "language": "python",
   "name": "python3"
  },
  "language_info": {
   "codemirror_mode": {
    "name": "ipython",
    "version": 3
   },
   "file_extension": ".py",
   "mimetype": "text/x-python",
   "name": "python",
   "nbconvert_exporter": "python",
   "pygments_lexer": "ipython3",
   "version": "3.12.4"
  }
 },
 "nbformat": 4,
 "nbformat_minor": 2
}
