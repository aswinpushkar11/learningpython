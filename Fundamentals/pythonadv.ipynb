{
 "cells": [
  {
   "cell_type": "code",
   "execution_count": 2,
   "metadata": {},
   "outputs": [
    {
     "name": "stdout",
     "output_type": "stream",
     "text": [
      "Outer class object created\n",
      "Inner class object created\n",
      "Calling Inner method\n"
     ]
    }
   ],
   "source": [
    "#Inner class Concepts \n",
    "\n",
    "class University:\n",
    "    def __init__(self):\n",
    "        print('Outer class object created')\n",
    "\n",
    "    class Department:\n",
    "        def __init__(self):\n",
    "            print('Inner class object created')\n",
    "        def m1(self):\n",
    "            print('Calling Inner method')\n",
    "\n",
    "# u = University()\n",
    "# d = u.Department()\n",
    "# d.m1()\n",
    "\n",
    "# d=University().Department()\n",
    "# d.m1()\n",
    "\n",
    "University().Department().m1()"
   ]
  },
  {
   "cell_type": "code",
   "execution_count": 15,
   "metadata": {},
   "outputs": [
    {
     "name": "stdout",
     "output_type": "stream",
     "text": [
      "Using Instance Method m1:\n",
      "Outer class object created\n",
      "Inner class object created\n",
      "Innerinner class object created\n",
      "Calling Nested Inner Static method\n",
      "\n",
      "Using Static method m1:\n",
      "Outer class object created\n",
      "Inner class object created\n",
      "Calling Nested Inner Static method\n"
     ]
    }
   ],
   "source": [
    "#Nested Class\n",
    "\n",
    "class Outer:\n",
    "    def __init__(self):\n",
    "        print('Outer class object created')\n",
    "\n",
    "    class Inner:\n",
    "        def __init__(self):\n",
    "            print('Inner class object created')\n",
    "\n",
    "        class Innerinner:\n",
    "            def __init__(self):\n",
    "                print('Innerinner class object created')\n",
    "            \n",
    "            def m1(self):\n",
    "                print('Calling Nested Inner method')\n",
    "            @staticmethod\n",
    "            def m1():\n",
    "                print('Calling Nested Inner Static method')\n",
    "print('Using Instance Method m1:')\n",
    "Outer().Inner().Innerinner().m1()\n",
    "print()\n",
    "print('Using Static method m1:')\n",
    "Outer().Inner().Innerinner.m1()"
   ]
  },
  {
   "cell_type": "code",
   "execution_count": 28,
   "metadata": {},
   "outputs": [
    {
     "name": "stdout",
     "output_type": "stream",
     "text": [
      "Human object creation\n",
      "Head object creation\n",
      "Brain object creation\n",
      "\n",
      "Hi there,I am aswinpushkar11\n",
      "I can Talk...\n",
      "I can Think...\n"
     ]
    }
   ],
   "source": [
    "#Initiating object creation for an inner class within Outer class\n",
    "\n",
    "class Human:\n",
    "    def __init__(self,name):\n",
    "        print('Human object creation')\n",
    "        self.name = name\n",
    "        self.head = self.Head()\n",
    "        \n",
    "    def info(self):\n",
    "        print('Hi there,I am',self.name)\n",
    "        self.head.talk() \n",
    "        self.head.brain.think()\n",
    "        \n",
    "\n",
    "    class Head:\n",
    "        def __init__(self):\n",
    "            print('Head object creation')\n",
    "            self.brain = self.Brain()\n",
    "\n",
    "        def talk(self):\n",
    "            print('I can Talk...')\n",
    "\n",
    "        class Brain:\n",
    "            def __init__(self):\n",
    "                print('Brain object creation')\n",
    "\n",
    "            def think(self):\n",
    "                print('I can Think...')\n",
    "\n",
    "human = Human('aswinpushkar11')\n",
    "print()\n",
    "human.info()"
   ]
  },
  {
   "cell_type": "code",
   "execution_count": 35,
   "metadata": {},
   "outputs": [
    {
     "name": "stdout",
     "output_type": "stream",
     "text": [
      "Person class creation\n",
      "Dob class creation\n",
      "Aswin Pushkar's date of birth is 27/12/2000\n"
     ]
    }
   ],
   "source": [
    "#Inner class using multiple instance variables\n",
    "\n",
    "class Person:\n",
    "    def __init__(self,name,dd,mm,yyyy):\n",
    "        print('Person class creation')\n",
    "        self.name = name\n",
    "        self.dob = self.Dob(dd,mm,yyyy)\n",
    "\n",
    "    def display(self):\n",
    "        print(f\"{(self.name).title()}'s date of birth is \",end='')\n",
    "        self.dob.info()\n",
    "        \n",
    "    class Dob:\n",
    "        def __init__(self,dd,mm,yyyy):\n",
    "            print('Dob class creation')\n",
    "            self.dd = dd\n",
    "            self.mm = mm\n",
    "            self.yyyy = yyyy \n",
    "        \n",
    "        def info(self):\n",
    "            print(f'{self.dd}/{self.mm}/{self.yyyy}')\n",
    "\n",
    "p=Person('aswin pushkar',27,12,2000)\n",
    "p.display()"
   ]
  },
  {
   "cell_type": "code",
   "execution_count": 42,
   "metadata": {},
   "outputs": [
    {
     "name": "stdout",
     "output_type": "stream",
     "text": [
      "Method One\n",
      "The sum is: 30\n",
      "The prd is: 200\n",
      "The diff is: -10\n",
      "\n",
      "The sum is: 50\n",
      "The prd is: 600\n",
      "The diff is: -10\n",
      "\n",
      "The sum is: 70\n",
      "The prd is: 1200\n",
      "The diff is: -10\n",
      "\n"
     ]
    }
   ],
   "source": [
    "#Nested methods\n",
    "\n",
    "class Test:\n",
    "    def m1(self):\n",
    "        print('Method One')\n",
    "        def m2(a,b):\n",
    "            print('The sum is:',a+b)\n",
    "            print('The prd is:',a*b)\n",
    "            print('The diff is:',a-b)\n",
    "            print()\n",
    "        m2(10,20)\n",
    "        m2(20,30)\n",
    "        m2(30,40)\n",
    "\n",
    "\n",
    "t=Test()\n",
    "t.m1()\n",
    "\n"
   ]
  },
  {
   "cell_type": "code",
   "execution_count": 70,
   "metadata": {},
   "outputs": [
    {
     "name": "stdout",
     "output_type": "stream",
     "text": [
      "True\n"
     ]
    }
   ],
   "source": [
    "#garbage collector \n",
    "import gc\n",
    "# print(gc.isenabled())\n",
    "# gc.disable()\n",
    "# print(gc.isenabled())\n",
    "# gc.enable()\n",
    "print(gc.isenabled())"
   ]
  },
  {
   "cell_type": "code",
   "execution_count": null,
   "metadata": {},
   "outputs": [
    {
     "name": "stdout",
     "output_type": "stream",
     "text": [
      "Constructor Execution\n",
      "Destructor Execution\n",
      "End of the Programme\n"
     ]
    }
   ],
   "source": [
    "# Destructor\n",
    "import time\n",
    "class Test:\n",
    "    def __init__(self):\n",
    "        print('Constructor Execution')\n",
    "\n",
    "    def __del__(self):\n",
    "        print('Destructor Execution')\n",
    "\n",
    "t=Test()\n",
    "t=None\n",
    "time.sleep(5)\n",
    "print('End of the Programme')\n"
   ]
  },
  {
   "cell_type": "code",
   "execution_count": 72,
   "metadata": {},
   "outputs": [
    {
     "name": "stdout",
     "output_type": "stream",
     "text": [
      "Constructor Execution\n",
      "Destructor Execution\n",
      "Constructor Execution\n",
      "Destructor Execution\n",
      "End of the Programme\n"
     ]
    }
   ],
   "source": [
    "# example2 - Destructor\n",
    "import time\n",
    "class Test:\n",
    "    def __init__(self):\n",
    "        print('Constructor Execution')\n",
    "\n",
    "    def __del__(self):\n",
    "        print('Destructor Execution')\n",
    "\n",
    "t1=Test()\n",
    "t2=Test()\n",
    "print('End of the Programme')"
   ]
  },
  {
   "cell_type": "code",
   "execution_count": 1,
   "metadata": {},
   "outputs": [
    {
     "name": "stdout",
     "output_type": "stream",
     "text": [
      "Start of Programme\n",
      "Constructor Execution\n",
      "Object not removed after deleting ref var1\n",
      "Object not removed after deleting ref var1\n",
      "Removing last ref var\n",
      "Destructor Execution\n",
      "End of the Programme\n"
     ]
    }
   ],
   "source": [
    "# example3 - Destructor \n",
    "import time\n",
    "class Test:\n",
    "    def __init__(self):\n",
    "        print('Constructor Execution')\n",
    "\n",
    "    def __del__(self):\n",
    "        print('Destructor Execution')\n",
    "\n",
    "\n",
    "print('Start of Programme')\n",
    "t1=Test()\n",
    "t2=t1\n",
    "t3=t1\n",
    "\n",
    "del t1\n",
    "time.sleep(5)\n",
    "print('Object not removed after deleting ref var1')\n",
    "del t2\n",
    "time.sleep(5)\n",
    "print('Object not removed after deleting ref var1')\n",
    "print('Removing last ref var')\n",
    "del t3\n",
    "time.sleep(5)\n",
    "print('End of the Programme')"
   ]
  },
  {
   "cell_type": "code",
   "execution_count": 2,
   "metadata": {},
   "outputs": [
    {
     "name": "stdout",
     "output_type": "stream",
     "text": [
      "Car Functionality\n",
      "Engine functionality\n"
     ]
    }
   ],
   "source": [
    "#Composition - HAS A\n",
    "\n",
    "class Engine:\n",
    "    def m1(self):\n",
    "        print('Engine functionality')\n",
    "\n",
    "\n",
    "class Car:\n",
    "    def __init__(self):\n",
    "        self.engine = Engine()\n",
    "\n",
    "    def m2(self):\n",
    "        print('Car Functionality')\n",
    "        self.engine.m1()\n",
    "\n",
    "c = Car()\n",
    "c.m2()"
   ]
  },
  {
   "cell_type": "code",
   "execution_count": 3,
   "metadata": {},
   "outputs": [
    {
     "name": "stdout",
     "output_type": "stream",
     "text": [
      "Emp No:101\n",
      "Emp Name:aswinpushkar\n",
      "Employee Car Details:\n",
      "Car:Skoda,Vesion:1.5,Model:Slavia\n"
     ]
    }
   ],
   "source": [
    "#example 2\n",
    "#EMPLOYEE HAS A CAR\n",
    "class Car:\n",
    "\n",
    "    def __init__(self,name,model,version):\n",
    "        self.name = name\n",
    "        self.model = model\n",
    "        self.version = version\n",
    "\n",
    "    def info(self):\n",
    "        print(f'Car:{self.name},Vesion:{self.version},Model:{self.model}')\n",
    "\n",
    "class Employee:\n",
    "\n",
    "    def __init__(self,eno,ename,car):\n",
    "        self.eno = eno\n",
    "        self.ename = ename\n",
    "        self.car = car\n",
    "\n",
    "    def details(self):\n",
    "        print(f'Emp No:{self.eno}\\nEmp Name:{self.ename}')\n",
    "        print('Employee Car Details:')\n",
    "        self.car.info()\n",
    "\n",
    "car = Car('Skoda','Slavia',1.5)\n",
    "emp = Employee(101,'aswinpushkar',car)\n",
    "emp.details()\n"
   ]
  },
  {
   "cell_type": "code",
   "execution_count": null,
   "metadata": {},
   "outputs": [],
   "source": [
    "#INHERITANCE --IS A relationship\n",
    "class Parent:\n",
    "    a=10\n",
    "    def __init__(self):\n",
    "        print('Parent Constructor')\n",
    "        self.b=20\n",
    "\n",
    "    def m1(self):\n",
    "        print('Parent class Method')\n",
    "    @classmethod\n",
    "    def m2(cls):\n",
    "        print('Class method')\n",
    "\n",
    "    @staticmethod\n",
    "    def m3():\n",
    "        print('Static method')\n",
    "\n",
    "class Child(Parent):\n",
    "    pass\n",
    "\n",
    "c = Child()\n",
    "print(c.a)\n",
    "print(c.b)\n",
    "c.m1()\n",
    "c.m2()\n",
    "c.m3()"
   ]
  }
 ],
 "metadata": {
  "kernelspec": {
   "display_name": "python-env",
   "language": "python",
   "name": "python3"
  },
  "language_info": {
   "codemirror_mode": {
    "name": "ipython",
    "version": 3
   },
   "file_extension": ".py",
   "mimetype": "text/x-python",
   "name": "python",
   "nbconvert_exporter": "python",
   "pygments_lexer": "ipython3",
   "version": "3.12.4"
  }
 },
 "nbformat": 4,
 "nbformat_minor": 2
}
