{
 "cells": [
  {
   "cell_type": "markdown",
   "metadata": {},
   "source": [
    "### _String Interview Questions_ ###"
   ]
  },
  {
   "cell_type": "code",
   "execution_count": 21,
   "metadata": {},
   "outputs": [
    {
     "name": "stdout",
     "output_type": "stream",
     "text": [
      "Actual String: keep the blue flag flying high\n",
      "Reversed String: hgih gniylf galf eulb eht peek\n"
     ]
    }
   ],
   "source": [
    "#reverse order of words\n",
    "s='keep the blue flag flying high'\n",
    "l=s.split()\n",
    "print('Actual String:',s)\n",
    "len_l=len(l)\n",
    "#print(len(l))\n",
    "result=[]\n",
    "for i in  range(len(l)-1,-1,-1):\n",
    "    result.append(l[i][::-1])\n",
    "#print(result)\n",
    "print(\"Reversed String:\",' '.join(result))\n",
    "\n"
   ]
  },
  {
   "cell_type": "code",
   "execution_count": 51,
   "metadata": {},
   "outputs": [
    {
     "name": "stdout",
     "output_type": "stream",
     "text": [
      "Even Index:keep blue flying\n",
      "Odd Index:the flag high\n"
     ]
    }
   ],
   "source": [
    "#words at even index and odd index\n",
    "s='keep the blue flag flying high'\n",
    "l=s.split()\n",
    "e = enumerate(l)\n",
    "even = []\n",
    "odd =[]\n",
    "for i,m in e:\n",
    "    if i%2==0:\n",
    "        even.append(m)\n",
    "    else:\n",
    "        odd.append(m)\n",
    "print('Even Index:',' '.join(even),sep='')\n",
    "print('Odd Index:',' '.join(odd),sep='')\n",
    "        \n",
    "\n",
    "\n"
   ]
  },
  {
   "cell_type": "code",
   "execution_count": 56,
   "metadata": {},
   "outputs": [
    {
     "name": "stdout",
     "output_type": "stream",
     "text": [
      "keep the blue flag flying high\n",
      "ke h lefa lighg\n",
      "eptebu lgfyn ih\n"
     ]
    }
   ],
   "source": [
    "#characters at odd and even positon\n",
    "s='keep the blue flag flying high'\n",
    "print(s)\n",
    "even = s[0::2]\n",
    "print(even)\n",
    "odd = s[1::2]\n",
    "print(odd)"
   ]
  },
  {
   "cell_type": "code",
   "execution_count": 62,
   "metadata": {},
   "outputs": [
    {
     "name": "stdout",
     "output_type": "stream",
     "text": [
      "apsuwsihnkar\n"
     ]
    }
   ],
   "source": [
    "#Merge characters of two string by taking characters alternatively\n",
    "s1='aswin'\n",
    "s2='pushkar'\n",
    "output=''\n",
    "i,j=0,0\n",
    "while i <len(s1) or j<len(s2):\n",
    "    if i<len(s1):\n",
    "        output+=s1[i]\n",
    "        i+=1\n",
    "    if i<len(s2):\n",
    "        output+=s2[j]\n",
    "        j+=1\n",
    "print(output)\n",
    "\n"
   ]
  },
  {
   "cell_type": "code",
   "execution_count": 74,
   "metadata": {},
   "outputs": [
    {
     "name": "stdout",
     "output_type": "stream",
     "text": [
      "AFDFB\n",
      "134545\n",
      "AFDFB134545\n"
     ]
    }
   ],
   "source": [
    "#sort characters of a string- First alphabet followed by Number\n",
    "s='A1345FDFB45'\n",
    "s1=''\n",
    "s2=''\n",
    "for char in s: \n",
    "    if char.isalpha():\n",
    "        s1+=char\n",
    "    else:\n",
    "        s2+=char\n",
    "print(s1)\n",
    "print(s2)\n",
    "output=s1+s2\n",
    "print(output)"
   ]
  },
  {
   "cell_type": "code",
   "execution_count": 75,
   "metadata": {},
   "outputs": [
    {
     "name": "stdout",
     "output_type": "stream",
     "text": [
      "aaaaabbbbccc\n"
     ]
    }
   ],
   "source": [
    "s='a4b3c2'\n",
    "op=''\n",
    "for char in s:\n",
    "    if char.isalpha():\n",
    "        op+=char\n",
    "        prev= char\n",
    "    else:\n",
    "        op+=prev*int(char)\n",
    "print(op)\n"
   ]
  },
  {
   "cell_type": "code",
   "execution_count": 77,
   "metadata": {},
   "outputs": [
    {
     "name": "stdout",
     "output_type": "stream",
     "text": [
      "aeknbd\n"
     ]
    }
   ],
   "source": [
    "s='a4k3b2'\n",
    "op=''\n",
    "for char in s:\n",
    "    if char.isalpha():\n",
    "        op+=char\n",
    "        prev=char\n",
    "    else:\n",
    "        char=chr(ord(prev)+int(char))\n",
    "        op+=char\n",
    "print(op)\n",
    "\n",
    "\n"
   ]
  },
  {
   "cell_type": "code",
   "execution_count": 80,
   "metadata": {},
   "outputs": [
    {
     "name": "stdout",
     "output_type": "stream",
     "text": [
      "acvjhdkerixn\n"
     ]
    }
   ],
   "source": [
    "#Remove duplicates from String\n",
    "s ='aaacvvjhhdkkkeriijjxnd'\n",
    "dedup=''\n",
    "\n",
    "for char in s:\n",
    "    if char not in dedup:\n",
    "        dedup+=char\n",
    "print(dedup)\n",
    "\n"
   ]
  },
  {
   "cell_type": "code",
   "execution_count": 82,
   "metadata": {},
   "outputs": [
    {
     "name": "stdout",
     "output_type": "stream",
     "text": [
      "{'a': 3, 'c': 1, 'v': 2, 'j': 3, 'h': 2, 'd': 2, 'k': 3, 'e': 1, 'r': 1, 'i': 2, 'x': 1, 'n': 1}\n"
     ]
    }
   ],
   "source": [
    "#No.of Occurence of Char in String\n",
    "s ='aaacvvjhhdkkkeriijjxnd'\n",
    "\n",
    "d={}\n",
    "for char in s:\n",
    "    if char not in d:\n",
    "        d[char]=1\n",
    "    else:\n",
    "        d[char]+=1\n",
    "print(d)"
   ]
  },
  {
   "cell_type": "code",
   "execution_count": 87,
   "metadata": {},
   "outputs": [
    {
     "name": "stdout",
     "output_type": "stream",
     "text": [
      "one owt three ruof five xis\n"
     ]
    }
   ],
   "source": [
    "s='one two three four five six'\n",
    "l=s.split()\n",
    "en_str=enumerate(l)\n",
    "op=[]\n",
    "for i,word in en_str:\n",
    "    if i%2 !=0:\n",
    "        op.append(word[::-1])\n",
    "    else:\n",
    "        op.append(word)\n",
    "print(' '.join(op))\n"
   ]
  },
  {
   "cell_type": "code",
   "execution_count": null,
   "metadata": {},
   "outputs": [],
   "source": []
  }
 ],
 "metadata": {
  "kernelspec": {
   "display_name": "python-env",
   "language": "python",
   "name": "python3"
  },
  "language_info": {
   "codemirror_mode": {
    "name": "ipython",
    "version": 3
   },
   "file_extension": ".py",
   "mimetype": "text/x-python",
   "name": "python",
   "nbconvert_exporter": "python",
   "pygments_lexer": "ipython3",
   "version": "3.12.4"
  }
 },
 "nbformat": 4,
 "nbformat_minor": 2
}
