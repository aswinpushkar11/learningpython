{
 "cells": [
  {
   "cell_type": "code",
   "execution_count": null,
   "metadata": {},
   "outputs": [],
   "source": [
    "#import libraries\n",
    "\n",
    "import math,copy\n",
    "import numpy as np\n",
    "import matplotlib.pyplot as plt"
   ]
  },
  {
   "cell_type": "code",
   "execution_count": null,
   "metadata": {},
   "outputs": [
    {
     "name": "stdout",
     "output_type": "stream",
     "text": [
      "[1 2]\n",
      "(2,)\n",
      "(2,)\n",
      "[300 500]\n"
     ]
    }
   ],
   "source": [
    "# create train inputs(features) and targets\n",
    "\n",
    "x_train = np.array([1,2])\n",
    "print(x_train)\n",
    "print(x_train.shape)\n",
    "y_train = np.array([300,500])\n",
    "print(y_train.shape)\n",
    "print(y_train)"
   ]
  },
  {
   "cell_type": "code",
   "execution_count": null,
   "metadata": {},
   "outputs": [],
   "source": [
    "#compute cost\n",
    "\n",
    "def compute_cost(x,y,w,b):\n",
    "    m=x.shape[0]\n",
    "    cost=0\n",
    "    for i in range(m):\n",
    "        f_wb=w*x[i]+b\n",
    "        cost=cost+(f_wb-y)**2\n",
    "        print(f'cost{i}')\n",
    "    print(cost)\n",
    "    cost=cost/(2*m)\n",
    "    return cost"
   ]
  },
  {
   "cell_type": "code",
   "execution_count": 8,
   "metadata": {},
   "outputs": [],
   "source": [
    "#compute gradient\n",
    "\n",
    "def compute_gradient(x,y,w,b):\n",
    "\n",
    "    m=x.shape[0]\n",
    "    dj_dw=0\n",
    "    dj_db=0\n",
    "\n",
    "    for i in range(m):\n",
    "        f_wb=f_wb=w*x[i]+b\n",
    "        dj_dw_i=(f_wb-y[i])*x[i]\n",
    "        print('dj_dx_i:',dj_dx_i)\n",
    "        dj_db_i=(f_wb-y[i])\n",
    "        print('dj_db_i:',dj_db_i)\n",
    "        dj_dw+=dj_dw_i\n",
    "        dj_db+=dj_db_i\n",
    "    print('dj_dw:',dj_dw)\n",
    "    print('dj_db:',dj_db)\n",
    "    dj_dw=dj_dw/m\n",
    "    dj_db=dj_db/m\n",
    "\n",
    "    return dj_dw,dj_db\n",
    "    \n"
   ]
  },
  {
   "cell_type": "code",
   "execution_count": 9,
   "metadata": {},
   "outputs": [],
   "source": [
    "# function for gradient descent\n",
    "\n",
    "def gradient_descent(x,y,w_in,b_in,alpha,num_iters,cost_function,gradient_function):\n",
    "    w=copy.deepcopy(w_in)\n",
    "    J_hist=[]\n",
    "    p_hist=[]\n",
    "    b=b_in\n",
    "    w=w_in\n",
    "\n",
    "    for i in range(num_iters):\n",
    "        dj_dw,dj_db = gradient_function(x,y,w,b)\n",
    "\n",
    "        b=b-alpha*dj_db\n",
    "        w=w-alpha*dj_dw\n",
    "\n",
    "        if i <10000:\n",
    "            J_hist.append(cost_function(x, y, w , b))\n",
    "            p_hist.append([w,b])\n",
    "        if i%math.ceil(num_iters/10)==0:\n",
    "            print(f'iteration{i:4}:cost{J_hist[-1]:0.2e}',\n",
    "                  f'dj_dw:{dj_dw:0.3e},dj_db:{dj_db:0.3e}',\n",
    "                  f'w:{w:0.3e},b:{b:0.5e}')\n",
    "    return w,b,J_hist,p_hist\n"
   ]
  },
  {
   "cell_type": "code",
   "execution_count": 10,
   "metadata": {},
   "outputs": [
    {
     "ename": "NameError",
     "evalue": "name 'dj_dx_i' is not defined",
     "output_type": "error",
     "traceback": [
      "\u001b[0;31m---------------------------------------------------------------------------\u001b[0m",
      "\u001b[0;31mNameError\u001b[0m                                 Traceback (most recent call last)",
      "Cell \u001b[0;32mIn[10], line 5\u001b[0m\n\u001b[1;32m      3\u001b[0m iterations \u001b[38;5;241m=\u001b[39m \u001b[38;5;241m10000\u001b[39m\n\u001b[1;32m      4\u001b[0m tmp_alpha \u001b[38;5;241m=\u001b[39m \u001b[38;5;241m1.0e-2\u001b[39m\n\u001b[0;32m----> 5\u001b[0m w_final, b_final, J_hist, p_hist \u001b[38;5;241m=\u001b[39m \u001b[43mgradient_descent\u001b[49m\u001b[43m(\u001b[49m\u001b[43mx_train\u001b[49m\u001b[43m \u001b[49m\u001b[43m,\u001b[49m\u001b[43my_train\u001b[49m\u001b[43m,\u001b[49m\u001b[43m \u001b[49m\u001b[43mw_init\u001b[49m\u001b[43m,\u001b[49m\u001b[43m \u001b[49m\u001b[43mb_init\u001b[49m\u001b[43m,\u001b[49m\u001b[43m \u001b[49m\u001b[43mtmp_alpha\u001b[49m\u001b[43m,\u001b[49m\u001b[43m \u001b[49m\n\u001b[1;32m      6\u001b[0m \u001b[43m                                                    \u001b[49m\u001b[43miterations\u001b[49m\u001b[43m,\u001b[49m\u001b[43m \u001b[49m\u001b[43mcompute_cost\u001b[49m\u001b[43m,\u001b[49m\u001b[43m \u001b[49m\u001b[43mcompute_gradient\u001b[49m\u001b[43m)\u001b[49m\n",
      "Cell \u001b[0;32mIn[9], line 11\u001b[0m, in \u001b[0;36mgradient_descent\u001b[0;34m(x, y, w_in, b_in, alpha, num_iters, cost_function, gradient_function)\u001b[0m\n\u001b[1;32m      8\u001b[0m w\u001b[38;5;241m=\u001b[39mw_in\n\u001b[1;32m     10\u001b[0m \u001b[38;5;28;01mfor\u001b[39;00m i \u001b[38;5;129;01min\u001b[39;00m \u001b[38;5;28mrange\u001b[39m(num_iters):\n\u001b[0;32m---> 11\u001b[0m     dj_dw,dj_db \u001b[38;5;241m=\u001b[39m \u001b[43mgradient_function\u001b[49m\u001b[43m(\u001b[49m\u001b[43mx\u001b[49m\u001b[43m,\u001b[49m\u001b[43my\u001b[49m\u001b[43m,\u001b[49m\u001b[43mw\u001b[49m\u001b[43m,\u001b[49m\u001b[43mb\u001b[49m\u001b[43m)\u001b[49m\n\u001b[1;32m     13\u001b[0m     b\u001b[38;5;241m=\u001b[39mb\u001b[38;5;241m-\u001b[39malpha\u001b[38;5;241m*\u001b[39mdj_db\n\u001b[1;32m     14\u001b[0m     w\u001b[38;5;241m=\u001b[39mw\u001b[38;5;241m-\u001b[39malpha\u001b[38;5;241m*\u001b[39mdj_dw\n",
      "Cell \u001b[0;32mIn[8], line 12\u001b[0m, in \u001b[0;36mcompute_gradient\u001b[0;34m(x, y, w, b)\u001b[0m\n\u001b[1;32m     10\u001b[0m f_wb\u001b[38;5;241m=\u001b[39mf_wb\u001b[38;5;241m=\u001b[39mw\u001b[38;5;241m*\u001b[39mx[i]\u001b[38;5;241m+\u001b[39mb\n\u001b[1;32m     11\u001b[0m dj_dw_i\u001b[38;5;241m=\u001b[39m(f_wb\u001b[38;5;241m-\u001b[39my[i])\u001b[38;5;241m*\u001b[39mx[i]\n\u001b[0;32m---> 12\u001b[0m \u001b[38;5;28mprint\u001b[39m(\u001b[38;5;124m'\u001b[39m\u001b[38;5;124mdj_dx_i:\u001b[39m\u001b[38;5;124m'\u001b[39m,\u001b[43mdj_dx_i\u001b[49m)\n\u001b[1;32m     13\u001b[0m dj_db_i\u001b[38;5;241m=\u001b[39m(f_wb\u001b[38;5;241m-\u001b[39my[i])\n\u001b[1;32m     14\u001b[0m \u001b[38;5;28mprint\u001b[39m(\u001b[38;5;124m'\u001b[39m\u001b[38;5;124mdj_db_i:\u001b[39m\u001b[38;5;124m'\u001b[39m,dj_db_i)\n",
      "\u001b[0;31mNameError\u001b[0m: name 'dj_dx_i' is not defined"
     ]
    }
   ],
   "source": [
    "w_init = 0\n",
    "b_init = 0\n",
    "iterations = 10000\n",
    "tmp_alpha = 1.0e-2\n",
    "w_final, b_final, J_hist, p_hist = gradient_descent(x_train ,y_train, w_init, b_init, tmp_alpha, \n",
    "                                                    iterations, compute_cost, compute_gradient)\n"
   ]
  },
  {
   "cell_type": "code",
   "execution_count": null,
   "metadata": {},
   "outputs": [],
   "source": []
  }
 ],
 "metadata": {
  "kernelspec": {
   "display_name": "python-env",
   "language": "python",
   "name": "python3"
  },
  "language_info": {
   "codemirror_mode": {
    "name": "ipython",
    "version": 3
   },
   "file_extension": ".py",
   "mimetype": "text/x-python",
   "name": "python",
   "nbconvert_exporter": "python",
   "pygments_lexer": "ipython3",
   "version": "3.12.4"
  }
 },
 "nbformat": 4,
 "nbformat_minor": 2
}
